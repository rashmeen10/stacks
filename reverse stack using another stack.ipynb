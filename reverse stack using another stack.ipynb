{
 "cells": [
  {
   "cell_type": "code",
   "execution_count": null,
   "metadata": {},
   "outputs": [],
   "source": [
    "def reverseStack(s1,s2):\n",
    "    if len(s1) <= 1:\n",
    "        return \n",
    "    \n",
    "    \n",
    "    while len(s1) != 1:\n",
    "        ele = s1.pop()\n",
    "        s2.append(ele)\n",
    "        \n",
    "    lastElement = s1.pop()\n",
    "    while len(s2) != 0:\n",
    "        ele = s2.pop()\n",
    "        s1.append(ele)\n",
    "    reverseStack(s1, s2)\n",
    "    \n",
    "    s1.append(lastElement)\n",
    "    \n",
    "    \n",
    "\n",
    "from sys import setrecursionlimit\n",
    "setrecursionlimit(11000)\n",
    "n = int(input())\n",
    "s1 = [int(ele) for ele in input().split()]\n",
    "s2 = []\n",
    "reverseStack(s1,s2)\n",
    "while(len(s1) !=0):\n",
    "    print(s1.pop(),end= ' ')"
   ]
  }
 ],
 "metadata": {
  "kernelspec": {
   "display_name": "Python 3",
   "language": "python",
   "name": "python3"
  },
  "language_info": {
   "codemirror_mode": {
    "name": "ipython",
    "version": 3
   },
   "file_extension": ".py",
   "mimetype": "text/x-python",
   "name": "python",
   "nbconvert_exporter": "python",
   "pygments_lexer": "ipython3",
   "version": "3.8.3"
  }
 },
 "nbformat": 4,
 "nbformat_minor": 4
}
