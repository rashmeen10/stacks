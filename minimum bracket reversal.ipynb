{
 "cells": [
  {
   "cell_type": "code",
   "execution_count": 1,
   "metadata": {},
   "outputs": [],
   "source": [
    "def MinimumBracketReversal(inputstring):\n",
    "    length=len(inputstring)\n",
    "    if length==0:\n",
    "        return 0\n",
    "    if length%2!=0:\n",
    "        return -1\n",
    "    stack=list()\n",
    "    for i in range (length):\n",
    "        curr=inputsting[i]\n",
    "        if currchar=='{':\n",
    "            stack.append(currchar)\n",
    "        else:\n",
    "            if not isempty(stack) and stack[-1]=='{':\n",
    "                stack.pop()\n",
    "            else:\n",
    "                s.append(currchar)\n",
    "    count=0\n",
    "    while not isempty(stack):\n",
    "        c1=stack.pop()\n",
    "        c2=stack.pop()\n",
    "        if c1!=c2:\n",
    "            count+=2\n",
    "        else:\n",
    "            count+=1\n",
    "    return count\n",
    "            \n",
    " \n",
    "    \n",
    "    "
   ]
  },
  {
   "cell_type": "code",
   "execution_count": null,
   "metadata": {},
   "outputs": [],
   "source": []
  }
 ],
 "metadata": {
  "kernelspec": {
   "display_name": "Python 3",
   "language": "python",
   "name": "python3"
  },
  "language_info": {
   "codemirror_mode": {
    "name": "ipython",
    "version": 3
   },
   "file_extension": ".py",
   "mimetype": "text/x-python",
   "name": "python",
   "nbconvert_exporter": "python",
   "pygments_lexer": "ipython3",
   "version": "3.8.3"
  }
 },
 "nbformat": 4,
 "nbformat_minor": 4
}
