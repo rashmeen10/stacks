{
 "cells": [
  {
   "cell_type": "code",
   "execution_count": null,
   "metadata": {},
   "outputs": [],
   "source": [
    "\n",
    "def checkRedundant(string):\n",
    "    stack = []\n",
    "    for x in string:\n",
    "        count = 0\n",
    "        if x==')':\n",
    "            while stack[-1]!='(':\n",
    "                stack.pop()\n",
    "                count +=1\n",
    "            if count==0:\n",
    "                return True\n",
    "            else:\n",
    "                stack.pop()\n",
    "        else:\n",
    "            stack.append(x)\n",
    "    return False\n",
    "    \n",
    "\n",
    "string = input()\n",
    "ans = checkRedundant(string)\n",
    "if ans is True:\n",
    "    print('true')\n",
    "else:\n",
    "    print('false')"
   ]
  }
 ],
 "metadata": {
  "kernelspec": {
   "display_name": "Python 3",
   "language": "python",
   "name": "python3"
  },
  "language_info": {
   "codemirror_mode": {
    "name": "ipython",
    "version": 3
   },
   "file_extension": ".py",
   "mimetype": "text/x-python",
   "name": "python",
   "nbconvert_exporter": "python",
   "pygments_lexer": "ipython3",
   "version": "3.8.3"
  }
 },
 "nbformat": 4,
 "nbformat_minor": 4
}
