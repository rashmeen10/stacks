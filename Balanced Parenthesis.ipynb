{
 "cells": [
  {
   "cell_type": "code",
   "execution_count": null,
   "metadata": {},
   "outputs": [],
   "source": [
    "class Solution:\n",
    "    def isValid(self, s: str) -> bool:\n",
    "        stack = [s[0]]\n",
    "        for i in s[1:]:\n",
    "            if i == ']' and stack and stack[-1] == '[':\n",
    "                stack.pop()\n",
    "            elif i == ')' and stack and stack[-1] == '(':\n",
    "                stack.pop()\n",
    "            elif i == '}' and stack and stack[-1] == '{':\n",
    "                stack.pop()\n",
    "            else:\n",
    "                stack.append(i)\n",
    "        \n",
    "        \n",
    "        return True if not stack else False"
   ]
  }
 ],
 "metadata": {
  "kernelspec": {
   "display_name": "Python 3",
   "language": "python",
   "name": "python3"
  },
  "language_info": {
   "codemirror_mode": {
    "name": "ipython",
    "version": 3
   },
   "file_extension": ".py",
   "mimetype": "text/x-python",
   "name": "python",
   "nbconvert_exporter": "python",
   "pygments_lexer": "ipython3",
   "version": "3.8.3"
  }
 },
 "nbformat": 4,
 "nbformat_minor": 4
}
